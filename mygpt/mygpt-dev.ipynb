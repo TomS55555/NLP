{
 "cells": [
  {
   "cell_type": "code",
   "execution_count": 1,
   "metadata": {},
   "outputs": [],
   "source": [
    "import torch "
   ]
  },
  {
   "cell_type": "code",
   "execution_count": 4,
   "metadata": {},
   "outputs": [
    {
     "data": {
      "text/plain": [
       "\"First Citizen:\\nBefore we proceed any further, hear me speak.\\n\\nAll:\\nSpeak, speak.\\n\\nFirst Citizen:\\nYou are all resolved rather to die than to famish?\\n\\nAll:\\nResolved. resolved.\\n\\nFirst Citizen:\\nFirst, you know Caius Marcius is chief enemy to the people.\\n\\nAll:\\nWe know't, we know't.\\n\\nFirst Citizen:\\nLet us kill him, and we'll have corn at our own price.\\nIs't a verdict?\\n\\nAll:\\nNo more talking on't; let it be done: away, away!\\n\\nSecond Citizen:\\nOne word, good citizens.\\n\\nFirst Citizen:\\nWe are accounted poor citizens, the patricians good.\\nWhat authority surfeits on would relieve us: if they\\nwould yield us but the superfluity, while it were\\nwholesome, we might guess they relieved us humanely;\\nbut they think we are too dear: the leanness that\\nafflicts us, the object of our misery, is as an\\ninventory to particularise their abundance; our\\nsufferance is a gain to them Let us revenge this with\\nour pikes, ere we become rakes: for the gods know I\\nspeak this in hunger for bread, not in thirst for revenge.\\n\\n\""
      ]
     },
     "execution_count": 4,
     "metadata": {},
     "output_type": "execute_result"
    }
   ],
   "source": [
    "with open('input.txt', 'r', encoding='utf-8') as f:\n",
    "    text_input = f.read()\n",
    "text_input[:1000]"
   ]
  },
  {
   "cell_type": "code",
   "execution_count": 5,
   "metadata": {},
   "outputs": [],
   "source": [
    "chars = sorted(list(set(text_input)))\n",
    "vocab_size = len(chars)"
   ]
  },
  {
   "cell_type": "code",
   "execution_count": 6,
   "metadata": {},
   "outputs": [
    {
     "name": "stdout",
     "output_type": "stream",
     "text": [
      "['\\n', ' ', '!', '$', '&', \"'\", ',', '-', '.', '3', ':', ';', '?', 'A', 'B', 'C', 'D', 'E', 'F', 'G', 'H', 'I', 'J', 'K', 'L', 'M', 'N', 'O', 'P', 'Q', 'R', 'S', 'T', 'U', 'V', 'W', 'X', 'Y', 'Z', 'a', 'b', 'c', 'd', 'e', 'f', 'g', 'h', 'i', 'j', 'k', 'l', 'm', 'n', 'o', 'p', 'q', 'r', 's', 't', 'u', 'v', 'w', 'x', 'y', 'z']\n",
      "Vocab size:  65\n"
     ]
    }
   ],
   "source": [
    "print(chars)\n",
    "print(\"Vocab size: \", vocab_size)"
   ]
  },
  {
   "cell_type": "code",
   "execution_count": 7,
   "metadata": {},
   "outputs": [
    {
     "name": "stdout",
     "output_type": "stream",
     "text": [
      "[20, 47, 47, 1, 58, 46, 43, 56, 43, 2]\n",
      "Hii there!\n"
     ]
    }
   ],
   "source": [
    "stoi = {c:i for i, c in enumerate(chars)}\n",
    "itos = {i:c for i, c in enumerate(chars)}\n",
    "encode = lambda s : [stoi[c] for c in s]\n",
    "decode = lambda enc : ''.join([itos[i] for i in enc])\n",
    "\n",
    "print(encode('Hii there!'))\n",
    "print(decode(encode('Hii there!')))"
   ]
  },
  {
   "cell_type": "code",
   "execution_count": 8,
   "metadata": {},
   "outputs": [
    {
     "data": {
      "text/plain": [
       "tensor([18, 47, 56, 57, 58,  1, 15, 47, 58, 47, 64, 43, 52, 10,  0, 14, 43, 44,\n",
       "        53, 56, 43,  1, 61, 43,  1, 54, 56, 53, 41, 43, 43, 42,  1, 39, 52, 63,\n",
       "         1, 44, 59, 56, 58, 46, 43, 56,  6,  1, 46, 43, 39, 56,  1, 51, 43,  1,\n",
       "        57, 54, 43, 39, 49,  8,  0,  0, 13, 50, 50, 10,  0, 31, 54, 43, 39, 49,\n",
       "         6,  1, 57, 54, 43, 39, 49,  8,  0,  0, 18, 47, 56, 57, 58,  1, 15, 47,\n",
       "        58, 47, 64, 43, 52, 10,  0, 37, 53, 59])"
      ]
     },
     "execution_count": 8,
     "metadata": {},
     "output_type": "execute_result"
    }
   ],
   "source": [
    "data = torch.tensor(encode(text_input), dtype=torch.long)\n",
    "n = int(0.9*len(data))\n",
    "train_data = data[:n]\n",
    "val_data = data[n:]\n",
    "train_data[:100]"
   ]
  },
  {
   "cell_type": "code",
   "execution_count": 21,
   "metadata": {},
   "outputs": [
    {
     "data": {
      "text/plain": [
       "(tensor([[ 1, 51, 43, 56, 41, 63,  1, 53],\n",
       "         [56, 58, 63,  1, 59, 52, 58, 53],\n",
       "         [10,  0, 14, 59, 58,  1, 46, 43],\n",
       "         [43,  1, 58, 46, 43,  1, 57, 47],\n",
       "         [58, 39, 44, 44,  1, 53, 44,  1]]),\n",
       " tensor([[51, 43, 56, 41, 63,  1, 53, 44],\n",
       "         [58, 63,  1, 59, 52, 58, 53,  1],\n",
       "         [ 0, 14, 59, 58,  1, 46, 43,  5],\n",
       "         [ 1, 58, 46, 43,  1, 57, 47, 45],\n",
       "         [39, 44, 44,  1, 53, 44,  1, 53]]))"
      ]
     },
     "execution_count": 21,
     "metadata": {},
     "output_type": "execute_result"
    }
   ],
   "source": [
    "context_length = 8\n",
    "batch_size = 5\n",
    "def get_batch(split):\n",
    "    data = train_data if split == \"train\" else val_data\n",
    "    ix = torch.randint(0, len(data)-context_length, (batch_size,))\n",
    "    x = torch.stack([data[i:i+context_length] for i in ix])\n",
    "    y = torch.stack([data[i+1:i+context_length+1] for i in ix])\n",
    "    return x, y\n",
    "x, y = get_batch('train')\n",
    "x, y"
   ]
  },
  {
   "cell_type": "code",
   "execution_count": 37,
   "metadata": {},
   "outputs": [
    {
     "data": {
      "text/plain": [
       "torch.float32"
      ]
     },
     "execution_count": 37,
     "metadata": {},
     "output_type": "execute_result"
    }
   ],
   "source": [
    "import torch.nn as nn \n",
    "\n",
    "class Embedding(nn.Module):\n",
    "    def __init__(self, num_embeddings, embedding_dim) -> None:\n",
    "        super().__init__()\n",
    "        self.E = torch.randn(num_embeddings, embedding_dim)\n",
    "    def forward(self, x):\n",
    "        return self.E[x]\n",
    "    \n",
    "emb_dim = 6\n",
    "embedding = Embedding(vocab_size, emb_dim)\n",
    "embedding(x).dtype"
   ]
  },
  {
   "cell_type": "code",
   "execution_count": 59,
   "metadata": {},
   "outputs": [
    {
     "name": "stderr",
     "output_type": "stream",
     "text": [
      "/tmp/ipykernel_10329/2508045459.py:20: UserWarning: Implicit dimension choice for softmax has been deprecated. Change the call to include dim=X as an argument.\n",
      "  weights = F.softmax(activations)  # (B, C, C)\n"
     ]
    },
    {
     "data": {
      "text/plain": [
       "torch.Size([5, 8, 10])"
      ]
     },
     "execution_count": 59,
     "metadata": {},
     "output_type": "execute_result"
    }
   ],
   "source": [
    "from torch.functional import F\n",
    "\n",
    "class Attention(nn.Module):\n",
    "    def __init__(self, emb_dim, context_length, query_dim) -> None:\n",
    "        super().__init__()\n",
    "        self.query_dim = query_dim \n",
    "        self.emb_dim = emb_dim\n",
    "        self.Q = nn.Linear(emb_dim, query_dim)\n",
    "        self.K = nn.Linear(emb_dim, query_dim)\n",
    "        self.V = nn.Linear(emb_dim, query_dim)\n",
    "        self.register_buffer('tril_mask', torch.tril(torch.ones(context_length, context_length)))\n",
    "    \n",
    "    def forward(self, x):\n",
    "        B, C, E = x.shape # x is a batch of encoded inputs: (B, C, E)\n",
    "        queries = self.Q(x)  # (B, C, query_dim)\n",
    "        keys = self.K(x)  # (B, C, query_dim)\n",
    "        values = self.V(x) # (B, C, query_dim)\n",
    "        activations = queries @ keys.transpose(-2, -1) * self.query_dim**-0.5 # (B, C, C)\n",
    "        activations = activations.masked_fill(self.tril_mask[:C, :C] == 0, float('-inf'))\n",
    "        weights = F.softmax(activations)  # (B, C, C)\n",
    "        outputs = weights @ values # (B, context_length, query_dim)\n",
    "        return outputs\n",
    "\n",
    "attention = Attention(emb_dim=emb_dim, query_dim=10, context_length=context_length)\n",
    "attention(embedding(x)).shape\n"
   ]
  },
  {
   "cell_type": "code",
   "execution_count": 51,
   "metadata": {},
   "outputs": [],
   "source": [
    "class MultiHeadAttention(nn.Module):\n",
    "    \"\"\" multiple heads of self-attention is parallel \"\"\"\n",
    "    def __init__(self, num_heads, head_size) -> None:\n",
    "        super().__init__()\n",
    "        emb_dim = num_heads * head_size\n",
    "        self.heads = nn.ModuleList([Attention(emb_dim=emb_dim, context_length=context_length, query_dim=head_size) for _ in range(num_heads)])\n",
    "        self.proj = nn.Linear(num_heads*head_size, num_heads*head_size)\n",
    "\n",
    "    def forward(self, x):\n",
    "        out = torch.cat([h(x) for h in self.heads], dim=-1)\n",
    "        out = self.proj(out)\n",
    "        return out \n"
   ]
  },
  {
   "cell_type": "code",
   "execution_count": 53,
   "metadata": {},
   "outputs": [],
   "source": [
    "class MLP(nn.Module):\n",
    "    def __init__(self, input_dim, hidden_dim, output_dim) -> None:\n",
    "        super().__init__()\n",
    "        self.net = nn.Sequential(\n",
    "            nn.Linear(input_dim, hidden_dim),\n",
    "            nn.ReLU(),\n",
    "            nn.Linear(hidden_dim, output_dim)\n",
    "        )\n",
    "    def forward(self, x):\n",
    "        x = self.net(x)\n",
    "        return x \n"
   ]
  },
  {
   "cell_type": "code",
   "execution_count": 56,
   "metadata": {},
   "outputs": [
    {
     "name": "stderr",
     "output_type": "stream",
     "text": [
      "/tmp/ipykernel_10329/3438411057.py:20: UserWarning: Implicit dimension choice for softmax has been deprecated. Change the call to include dim=X as an argument.\n",
      "  weights = F.softmax(activations)  # (B, C, C)\n"
     ]
    },
    {
     "data": {
      "text/plain": [
       "torch.Size([5, 8, 6])"
      ]
     },
     "execution_count": 56,
     "metadata": {},
     "output_type": "execute_result"
    }
   ],
   "source": [
    "class TransformerBlock(nn.Module):\n",
    "    def __init__(self, emb_dim, n_heads) -> None:\n",
    "        super().__init__()\n",
    "        assert emb_dim % n_heads == 0\n",
    "        head_size = emb_dim // n_heads\n",
    "        self.sa = MultiHeadAttention(num_heads=n_heads, head_size=head_size)\n",
    "        self.ffwd = MLP(emb_dim, 4*emb_dim, emb_dim)\n",
    "        self.l1 = nn.LayerNorm(emb_dim)\n",
    "        self.l2 = nn.LayerNorm(emb_dim)\n",
    "\n",
    "    def forward(self, x):\n",
    "        x = x + self.sa(self.l1(x)) # apply layer normalization before attention\n",
    "        x = x + self.ffwd(self.l2(x)) # apply layer normalization once more before feed forward\n",
    "        return x\n",
    "\n",
    "block = TransformerBlock(emb_dim=emb_dim, n_heads=2)\n",
    "block(embedding(x)).shape"
   ]
  },
  {
   "cell_type": "code",
   "execution_count": 60,
   "metadata": {},
   "outputs": [],
   "source": [
    "n_layer = 2\n",
    "n_head = 2\n",
    "class GPTlanguageModel(nn.Module):\n",
    "    def __init__(self):\n",
    "        super().__init__()\n",
    "        self.token_embeding = Embedding(num_embeddings=vocab_size, embedding_dim=emb_dim)\n",
    "        self.pos_embedding = Embedding(num_embeddings=context_length, embedding_dim=emb_dim)\n",
    "        self.blocks = nn.Sequential(*[TransformerBlock(emb_dim=emb_dim, n_heads=n_head) for _ in range(n_layer)])\n",
    "        self.ln_f = nn.LayerNorm(emb_dim)\n",
    "        self.lm_head = nn.Linear(emb_dim, vocab_size)\n",
    "\n",
    "        self.apply(self._init_weights)\n",
    "\n",
    "    def _init_weights(self, module):\n",
    "        if isinstance(module, nn.Linear):\n",
    "            torch.nn.init.normal_(module.weight, mean=0.0, std=0.02)\n",
    "            if module.bias is not None:\n",
    "                torch.nn.init.zeros_(module.bias)\n",
    "        elif isinstance(module, nn.Embedding):\n",
    "            torch.nn.init.normal_(module.weight, mean=0.0, std=0.02)\n",
    "    \n",
    "    def forward(self, x, targets):\n",
    "        B, C = x.shape \n",
    "        tok_emb = self.token_embeding(x)\n",
    "        pos_emb = self.pos_embedding(x)\n",
    "        x = tok_emb + pos_emb  # (B, C, emb_dim)\n",
    "        x = self.blocks(x)\n",
    "        x = self.ln_f(x)\n",
    "        logits = self.lm_head(x)\n",
    "\n",
    "        if targets is None:\n",
    "            loss = None \n",
    "        else:    \n",
    "            B, C, E = logits.shape \n",
    "            logits = logits.view(B*C, E)\n",
    "            targets = targets.view(B*C)\n",
    "            loss = F.cross_entropy(logits, targets)\n",
    "\n",
    "        return logits, loss\n",
    "    \n",
    "    def generate(self, x, max_new_tokens):\n",
    "        # x is (B, C) array of indices in current context\n",
    "        for _ in range(max_new_tokens):\n",
    "            x_cond = x[:, -context_length:]\n",
    "            logits, _ = self(x_cond)  # Logits has size (B, C, vocab_size)\n",
    "            logits = logits[:, -1, :]  # focus only on last character\n",
    "            probs = F.softmax(logits, dim=-1)\n",
    "            x_next = torch.multinomial(probs, num_samples=1)\n",
    "            x = x.cat((x, x_next), dim=-1)\n",
    "        return x \n",
    "\n",
    "\n",
    "\n"
   ]
  },
  {
   "cell_type": "code",
   "execution_count": 58,
   "metadata": {},
   "outputs": [
    {
     "data": {
      "text/plain": [
       "tensor([0.2286, 0.8453, 0.6672, 0.7659, 0.6832])"
      ]
     },
     "execution_count": 58,
     "metadata": {},
     "output_type": "execute_result"
    }
   ],
   "source": [
    "t = torch.rand(5)\n",
    "t[-6:]"
   ]
  }
 ],
 "metadata": {
  "kernelspec": {
   "display_name": "Python 3",
   "language": "python",
   "name": "python3"
  },
  "language_info": {
   "codemirror_mode": {
    "name": "ipython",
    "version": 3
   },
   "file_extension": ".py",
   "mimetype": "text/x-python",
   "name": "python",
   "nbconvert_exporter": "python",
   "pygments_lexer": "ipython3",
   "version": "3.11.5"
  }
 },
 "nbformat": 4,
 "nbformat_minor": 2
}
